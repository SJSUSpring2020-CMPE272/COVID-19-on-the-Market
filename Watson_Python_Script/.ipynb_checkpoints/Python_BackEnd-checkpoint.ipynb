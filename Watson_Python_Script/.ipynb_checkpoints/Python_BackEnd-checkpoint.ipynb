{
 "cells": [
  {
   "cell_type": "code",
   "execution_count": 1,
   "metadata": {},
   "outputs": [],
   "source": [
    "import ParseCsv"
   ]
  },
  {
   "cell_type": "code",
   "execution_count": 2,
   "metadata": {},
   "outputs": [],
   "source": [
    "import WatsonCalls\n",
    "import WatsonCalls2\n",
    "\n",
    "import pandas as pd\n",
    "import numpy as np"
   ]
  },
  {
   "cell_type": "code",
   "execution_count": null,
   "metadata": {},
   "outputs": [],
   "source": []
  },
  {
   "cell_type": "code",
   "execution_count": 3,
   "metadata": {},
   "outputs": [],
   "source": [
    "token = WatsonCalls.get_Iam_token()\n"
   ]
  },
  {
   "cell_type": "code",
   "execution_count": 4,
   "metadata": {},
   "outputs": [],
   "source": [
    "# values = [[2.66, 1.7, 1000, 200, 50, 220100.0, 2.329, 3.013],\n",
    "#           [0.73,0.73,4632,17,85,3307000,2.343,2.733],\n",
    "#           [0.76,1,959,8,28,282000,2.343,2.733],\n",
    "#           [0.92,0.75,19100,147,244,3307000,2.217,2.659],\n",
    "#           [0.72,0.94,121478,1072,2026,6648000,2.103,2.586]]\n",
    "\n",
    "# values = [\n",
    "# [0.63,1.19,636350,52096,32734,4442000,1.91,2.48],\n",
    "# [0.61,1.03,667592,54703,34827,4442000,1.91,2.48],\n",
    "# [0.65,1.01,699706,58545,37411,4442000,1.91,2.48],\n",
    "# [0.65,1.01,732197,64840,39753,4442000,1.91,2.48],\n",
    "# [0.65,1.01,758809,70337,40945,3839000,1.91,2.48],\n",
    "# [0.63,0.94,784326,72329,42659,3839000,1.91,2.48],\n",
    "# [0.58,0.96,811865,75204,45086,3839000,1.87,2.437],\n",
    "# [0.63,1.06,840351,77366,47412,3839000,1.87,2.437],\n",
    "# [0.61,1.05,869170,80203,49724,3839000,1.87,2.437],\n",
    "# [0.6,1.11,905358,99079,51493,3839000,1.87,2.437],\n",
    "# [0.6,1.11,938154,100372,53755,3839000,1.87,2.437]\n",
    "    \n",
    "# ]\n",
    "\n",
    "# real = [[2783.360107],\n",
    "# [2799.550049],\n",
    "# [2874.560059],\n",
    "# [2874.560059],\n",
    "# [2874.560059],\n",
    "# [2823.159912],\n",
    "# [2736.560059],\n",
    "# [2799.310059],\n",
    "# [2797.800049],\n",
    "# [2836.73999],\n",
    "# [2836.73999]]\n",
    "\n",
    "values = ParseCsv.convertCSV(\"Next5DaysFindSP.csv\")\n"
   ]
  },
  {
   "cell_type": "code",
   "execution_count": 5,
   "metadata": {},
   "outputs": [
    {
     "name": "stdout",
     "output_type": "stream",
     "text": [
      "Scoring response\n",
      "{'predictions': [{'fields': ['prediction'], 'values': [[2521.202978515625], [2494.1559326171873], [2538.3719482421875], [2538.3719482421875], [2540.1469482421876], [2550.7969482421877], [2579.7599365234373], [2582.849951171875]]}]}\n"
     ]
    }
   ],
   "source": [
    "predictions = WatsonCalls.getPrediction(token, values)"
   ]
  },
  {
   "cell_type": "code",
   "execution_count": 6,
   "metadata": {},
   "outputs": [
    {
     "data": {
      "text/plain": [
       "[[2521.202978515625],\n",
       " [2494.1559326171873],\n",
       " [2538.3719482421875],\n",
       " [2538.3719482421875],\n",
       " [2540.1469482421876],\n",
       " [2550.7969482421877],\n",
       " [2579.7599365234373],\n",
       " [2582.849951171875]]"
      ]
     },
     "execution_count": 6,
     "metadata": {},
     "output_type": "execute_result"
    }
   ],
   "source": [
    "dataPoints = predictions[\"predictions\"][0][\"values\"]\n",
    "dataPoints"
   ]
  },
  {
   "cell_type": "code",
   "execution_count": 7,
   "metadata": {},
   "outputs": [
    {
     "data": {
      "text/plain": [
       "array([1., 2., 3., 4., 5., 6., 7., 8.])"
      ]
     },
     "execution_count": 7,
     "metadata": {},
     "output_type": "execute_result"
    }
   ],
   "source": [
    "y = np.linspace(1, len(dataPoints), len(dataPoints))\n",
    "y"
   ]
  },
  {
   "cell_type": "code",
   "execution_count": 8,
   "metadata": {},
   "outputs": [
    {
     "data": {
      "text/plain": [
       "<Figure size 640x480 with 1 Axes>"
      ]
     },
     "metadata": {},
     "output_type": "display_data"
    }
   ],
   "source": [
    "import matplotlib.pyplot as plt\n",
    "\n",
    "\n",
    "plt.plot(y, dataPoints)\n",
    "\n",
    "#for index, value in enumerate(dataPoints):\n",
    "#    plt.plot(index, value, c='r')\n",
    "plt.show()"
   ]
  },
  {
   "cell_type": "code",
   "execution_count": 9,
   "metadata": {},
   "outputs": [],
   "source": [
    "# import matplotlib.pyplot as plt\n",
    "\n",
    "\n",
    "# plt.plot(y, real)\n",
    "\n",
    "# #for index, value in enumerate(dataPoints):\n",
    "# #    plt.plot(index, value, c='r')\n",
    "# plt.show()"
   ]
  },
  {
   "cell_type": "markdown",
   "metadata": {},
   "source": [
    "# Predict Unemployment"
   ]
  },
  {
   "cell_type": "code",
   "execution_count": 10,
   "metadata": {},
   "outputs": [],
   "source": [
    "token2 = WatsonCalls2.get_Iam_token()\n"
   ]
  },
  {
   "cell_type": "code",
   "execution_count": 11,
   "metadata": {},
   "outputs": [],
   "source": [
    "# initialValue = [\n",
    "#     [2409.389893,1.12,0.5,13677,121,200,2.217,2.659],\n",
    "# [2304.919922,0.92,0.75,19100,147,244,2.217,2.659],\n",
    "# [2304.919922,0.92,0.75,25489,176,307,2.217,2.659],\n",
    "# [2304.919922,0.92,0.75,33276,178,417,2.217,2.659],\n",
    "# [2237.399902,0.76,0.8,43847,178,557,2.217,2.659],\n",
    "# [2447.330078,0.84,0.97,53740,348,706,2.103,2.586],\n",
    "# [2475.560059,0.88,1.07,65778,361,942,2.103,2.586],\n",
    "# [2630.070068,0.83,1.07,83836,681,1209,2.103,2.586],\n",
    "# [2541.469971,0.72,0.94,101657,869,1581,2.103,2.586],\n",
    "# [2541.469971,0.72,0.94,121478,1072,2026,2.103,2.586],\n",
    "# [2541.469971,0.72,0.94,140886,2665,2467,2.103,2.586],\n",
    "# [2626.649902,0.7,0.95,161807,5644,2978,2.103,2.586]\n",
    "# ]\n",
    "\n",
    "initialValue = ParseCsv.convertCSV(\"Next10DaysFindUnemploy.csv\")"
   ]
  },
  {
   "cell_type": "code",
   "execution_count": 12,
   "metadata": {},
   "outputs": [
    {
     "name": "stdout",
     "output_type": "stream",
     "text": [
      "@#%!@%$%!@!\n",
      "@#%!@%$%!@!\n",
      "Scoring response\n",
      "{'predictions': [{'fields': ['prediction'], 'values': [[214582.1696979805], [216967.87872575724], [285329.039782801], [285329.039782801], [285329.039782801], [228163.4465448078], [216813.67824144123], [216813.67824144123], [218607.14424422494]]}]}\n"
     ]
    }
   ],
   "source": [
    "predictions = WatsonCalls2.getPrediction(token2, initialValue)"
   ]
  },
  {
   "cell_type": "code",
   "execution_count": 13,
   "metadata": {},
   "outputs": [
    {
     "data": {
      "text/plain": [
       "[[214582.1696979805],\n",
       " [216967.87872575724],\n",
       " [285329.039782801],\n",
       " [285329.039782801],\n",
       " [285329.039782801],\n",
       " [228163.4465448078],\n",
       " [216813.67824144123],\n",
       " [216813.67824144123],\n",
       " [218607.14424422494]]"
      ]
     },
     "execution_count": 13,
     "metadata": {},
     "output_type": "execute_result"
    }
   ],
   "source": [
    "dataPoints = predictions[\"predictions\"][0][\"values\"]\n",
    "dataPoints"
   ]
  },
  {
   "cell_type": "code",
   "execution_count": 14,
   "metadata": {},
   "outputs": [
    {
     "data": {
      "image/png": "[encoded data removed]",
      "text/plain": [
       "<Figure size 432x288 with 1 Axes>"
      ]
     },
     "metadata": {
      "needs_background": "light"
     },
     "output_type": "display_data"
    }
   ],
   "source": [
    "y = np.linspace(1, len(dataPoints), len(dataPoints))\n",
    "\n",
    "plt.plot(y, dataPoints)\n",
    "\n",
    "#for index, value in enumerate(dataPoints):\n",
    "#    plt.plot(index, value, c='r')\n",
    "plt.show()"
   ]
  },
  {
   "cell_type": "markdown",
   "metadata": {},
   "source": [
    "Visualize Data"
   ]
  },
  {
   "cell_type": "code",
   "execution_count": 15,
   "metadata": {},
   "outputs": [
    {
     "ename": "AttributeError",
     "evalue": "module 'pandas' has no attribute 'csv_read'",
     "output_type": "error",
     "traceback": [
      "\u001b[0;31m---------------------------------------------------------------------------\u001b[0m",
      "\u001b[0;31mAttributeError\u001b[0m                            Traceback (most recent call last)",
      "\u001b[0;32m<ipython-input-15-83cb3cc318fe>\u001b[0m in \u001b[0;36m<module>\u001b[0;34m\u001b[0m\n\u001b[0;32m----> 1\u001b[0;31m \u001b[0mrep\u001b[0m \u001b[0;34m=\u001b[0m \u001b[0mpd\u001b[0m\u001b[0;34m.\u001b[0m\u001b[0mcsv_read\u001b[0m\u001b[0;34m(\u001b[0m\u001b[0;34m\"merged_data.csv\"\u001b[0m\u001b[0;34m)\u001b[0m\u001b[0;34m\u001b[0m\u001b[0;34m\u001b[0m\u001b[0m\n\u001b[0m",
      "\u001b[0;32m~/anaconda3/lib/python3.7/site-packages/pandas/__init__.py\u001b[0m in \u001b[0;36m__getattr__\u001b[0;34m(name)\u001b[0m\n\u001b[1;32m    212\u001b[0m \u001b[0;34m\u001b[0m\u001b[0m\n\u001b[1;32m    213\u001b[0m             \u001b[0;32mreturn\u001b[0m \u001b[0mPanel\u001b[0m\u001b[0;34m\u001b[0m\u001b[0;34m\u001b[0m\u001b[0m\n\u001b[0;32m--> 214\u001b[0;31m         \u001b[0;32mraise\u001b[0m \u001b[0mAttributeError\u001b[0m\u001b[0;34m(\u001b[0m\u001b[0;34m\"module 'pandas' has no attribute '{}'\"\u001b[0m\u001b[0;34m.\u001b[0m\u001b[0mformat\u001b[0m\u001b[0;34m(\u001b[0m\u001b[0mname\u001b[0m\u001b[0;34m)\u001b[0m\u001b[0;34m)\u001b[0m\u001b[0;34m\u001b[0m\u001b[0;34m\u001b[0m\u001b[0m\n\u001b[0m\u001b[1;32m    215\u001b[0m \u001b[0;34m\u001b[0m\u001b[0m\n\u001b[1;32m    216\u001b[0m \u001b[0;34m\u001b[0m\u001b[0m\n",
      "\u001b[0;31mAttributeError\u001b[0m: module 'pandas' has no attribute 'csv_read'"
     ]
    }
   ],
   "source": [
    "rep = pd.csv_read(\"merged_data.csv\")"
   ]
  }
 ],
 "metadata": {
  "kernelspec": {
   "display_name": "Python 3",
   "language": "python",
   "name": "python3"
  },
  "language_info": {
   "codemirror_mode": {
    "name": "ipython",
    "version": 3
   },
   "file_extension": ".py",
   "mimetype": "text/x-python",
   "name": "python",
   "nbconvert_exporter": "python",
   "pygments_lexer": "ipython3",
   "version": "3.7.4"
  }
 },
 "nbformat": 4,
 "nbformat_minor": 2
}
