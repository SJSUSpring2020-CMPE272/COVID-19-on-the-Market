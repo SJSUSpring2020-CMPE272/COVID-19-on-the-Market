{
 "cells": [
  {
   "cell_type": "code",
   "execution_count": 102,
   "metadata": {},
   "outputs": [],
   "source": [
    "import WatsonCalls\n",
    "import pandas as pd\n",
    "import numpy as np"
   ]
  },
  {
   "cell_type": "code",
   "execution_count": 103,
   "metadata": {},
   "outputs": [
    {
     "data": {
      "text/plain": [
       "'eyJraWQiOiIyMDIwMDQyNTE4MjkiLCJhbGciOiJSUzI1NiJ9.eyJpYW1faWQiOiJpYW0tU2VydmljZUlkLTk2MmIxNGQxLTlmYWItNGQ3Ny1hOWYwLWE5YzQ1Mjk1ZTVlMSIsImlkIjoiaWFtLVNlcnZpY2VJZC05NjJiMTRkMS05ZmFiLTRkNzctYTlmMC1hOWM0NTI5NWU1ZTEiLCJyZWFsbWlkIjoiaWFtIiwiaWRlbnRpZmllciI6IlNlcnZpY2VJZC05NjJiMTRkMS05ZmFiLTRkNzctYTlmMC1hOWM0NTI5NWU1ZTEiLCJuYW1lIjoiU2VydmljZSBjcmVkZW50aWFscy0xIiwic3ViIjoiU2VydmljZUlkLTk2MmIxNGQxLTlmYWItNGQ3Ny1hOWYwLWE5YzQ1Mjk1ZTVlMSIsInN1Yl90eXBlIjoiU2VydmljZUlkIiwiYWNjb3VudCI6eyJ2YWxpZCI6dHJ1ZSwiYnNzIjoiMzVjYjRiNTIzNjZiNDlmNTg3NTRmYjUxMmIzZWU4MGMifSwiaWF0IjoxNTg4MDQ5Mjk0LCJleHAiOjE1ODgwNTI4OTQsImlzcyI6Imh0dHBzOi8vaWFtLm5nLmJsdWVtaXgubmV0L29pZGMvdG9rZW4iLCJncmFudF90eXBlIjoidXJuOmlibTpwYXJhbXM6b2F1dGg6Z3JhbnQtdHlwZTphcGlrZXkiLCJzY29wZSI6ImlibSBvcGVuaWQiLCJjbGllbnRfaWQiOiJieCIsImFjciI6MSwiYW1yIjpbInB3ZCJdfQ.VaA04OmtE2x18WhwPytjBITmQCbXVYVSHgW44v0y2-xcl0b8Ivbhyjr1tkw593wSmN33rilChdGTQOutahGON5XVR3TLhxOh_SJJrWOZlKKBkg-g-Uy5XTwc7sNeWfbl70Q5gmDgPjut1OZMrnRLyt024Nrig_Y5p3dDhz47s7c5KdNC5B3JtAwUQD1_JUgJnv5gJu9wGrWd4Wjv4dva6t7BUax5ZQQVM7oetxNu4b1WWmdGsWlg62PlJX8kKGl6FKhY73qLTOL0t2P8ADfgdHT8ReAdfQIh9mphOcMTMyUo_fnhEzwQFZtRNiE1uSF3_xprsR95kM7cdhDaVEhrOg'"
      ]
     },
     "execution_count": 103,
     "metadata": {},
     "output_type": "execute_result"
    }
   ],
   "source": [
    "token = WatsonCalls.get_Iam_token()\n",
    "token"
   ]
  },
  {
   "cell_type": "code",
   "execution_count": 104,
   "metadata": {},
   "outputs": [],
   "source": [
    "initialValue = np.array([2.66, 1.7, 0, 0, 0, 220000, 2.329, 3.013])"
   ]
  },
  {
   "cell_type": "code",
   "execution_count": 105,
   "metadata": {},
   "outputs": [
    {
     "data": {
      "text/html": [
       "<div>\n",
       "<style scoped>\n",
       "    .dataframe tbody tr th:only-of-type {\n",
       "        vertical-align: middle;\n",
       "    }\n",
       "\n",
       "    .dataframe tbody tr th {\n",
       "        vertical-align: top;\n",
       "    }\n",
       "\n",
       "    .dataframe thead th {\n",
       "        text-align: right;\n",
       "    }\n",
       "</style>\n",
       "<table border=\"1\" class=\"dataframe\">\n",
       "  <thead>\n",
       "    <tr style=\"text-align: right;\">\n",
       "      <th></th>\n",
       "      <th>DGS10[\\%]</th>\n",
       "      <th>T10YIE[\\%]</th>\n",
       "      <th>Confirmed Cases</th>\n",
       "      <th>Recovered Cases</th>\n",
       "      <th>Deaths</th>\n",
       "      <th>Unemployment Claims</th>\n",
       "      <th>Weekly Gas Avg</th>\n",
       "      <th>Weekly Diesal Avg</th>\n",
       "    </tr>\n",
       "  </thead>\n",
       "  <tbody>\n",
       "    <tr>\n",
       "      <td>0</td>\n",
       "      <td>2.66</td>\n",
       "      <td>1.7</td>\n",
       "      <td>0.0</td>\n",
       "      <td>0.0</td>\n",
       "      <td>0.0</td>\n",
       "      <td>220000.0</td>\n",
       "      <td>2.329</td>\n",
       "      <td>3.013</td>\n",
       "    </tr>\n",
       "  </tbody>\n",
       "</table>\n",
       "</div>"
      ],
      "text/plain": [
       "   DGS10[\\%]  T10YIE[\\%]  Confirmed Cases  Recovered Cases  Deaths  \\\n",
       "0       2.66         1.7              0.0              0.0     0.0   \n",
       "\n",
       "   Unemployment Claims  Weekly Gas Avg  Weekly Diesal Avg  \n",
       "0             220000.0           2.329              3.013  "
      ]
     },
     "execution_count": 105,
     "metadata": {},
     "output_type": "execute_result"
    }
   ],
   "source": [
    "singleRow = pd.DataFrame([initialValue],\n",
    "                      columns=['DGS10[\\%]', \"T10YIE[\\%]\", \"Confirmed Cases\", \"Recovered Cases\",\n",
    "                                \"Deaths\", \"Unemployment Claims\", \"Weekly Gas Avg\", \"Weekly Diesal Avg\"])\n",
    "singleRow"
   ]
  },
  {
   "cell_type": "code",
   "execution_count": 106,
   "metadata": {},
   "outputs": [
    {
     "data": {
      "text/plain": [
       "Index(['DGS10[\\%]', 'T10YIE[\\%]', 'Confirmed Cases', 'Recovered Cases',\n",
       "       'Deaths', 'Unemployment Claims', 'Weekly Gas Avg', 'Weekly Diesal Avg'],\n",
       "      dtype='object')"
      ]
     },
     "execution_count": 106,
     "metadata": {},
     "output_type": "execute_result"
    }
   ],
   "source": [
    "singleRow.columns\n"
   ]
  },
  {
   "cell_type": "code",
   "execution_count": 107,
   "metadata": {},
   "outputs": [],
   "source": [
    "addedValue = singleRow\n",
    "\n",
    "# for n in range(0,1):\n",
    "#     singleRow['Unemployment Claims'] = int(singleRow['Unemployment Claims'].values[0]) + 100\n",
    "#     addedValue = pd.concat([addedValue, singleRow])\n",
    "    \n",
    "# values = addedValue.values.tolist()"
   ]
  },
  {
   "cell_type": "code",
   "execution_count": 108,
   "metadata": {},
   "outputs": [],
   "source": [
    "values = [[2.66, 1.7, 1000, 200, 50, 220100.0, 2.329, 3.013],\n",
    "          [0.73,0.73,4632,17,85,3307000,2.343,2.733],\n",
    "          [0.76,1,959,8,28,282000,2.343,2.733],\n",
    "          [0.92,0.75,19100,147,244,3307000,2.217,2.659],\n",
    "          [0.72,0.94,121478,1072,2026,6648000,2.103,2.586]]"
   ]
  },
  {
   "cell_type": "code",
   "execution_count": 109,
   "metadata": {},
   "outputs": [
    {
     "name": "stdout",
     "output_type": "stream",
     "text": [
      "Scoring response\n",
      "{'predictions': [{'fields': ['prediction'], 'values': [[2595.0919677734373], [2389.785888671875], [2786.7669677734375], [2315.3669189453126], [2555.38798828125]]}]}\n"
     ]
    }
   ],
   "source": [
    "predictions = WatsonCalls.getPrediction(token, values)"
   ]
  },
  {
   "cell_type": "code",
   "execution_count": 111,
   "metadata": {},
   "outputs": [
    {
     "data": {
      "text/plain": [
       "[[2595.0919677734373],\n",
       " [2389.785888671875],\n",
       " [2786.7669677734375],\n",
       " [2315.3669189453126],\n",
       " [2555.38798828125]]"
      ]
     },
     "execution_count": 111,
     "metadata": {},
     "output_type": "execute_result"
    }
   ],
   "source": [
    "dataPoints = predictions[\"predictions\"][0][\"values\"]\n",
    "dataPoints"
   ]
  },
  {
   "cell_type": "code",
   "execution_count": 100,
   "metadata": {},
   "outputs": [
    {
     "data": {
      "text/plain": [
       "array([1., 2., 3., 4., 5.])"
      ]
     },
     "execution_count": 100,
     "metadata": {},
     "output_type": "execute_result"
    }
   ],
   "source": [
    "y = np.linspace(1, len(dataPoints), len(dataPoints))\n",
    "y"
   ]
  },
  {
   "cell_type": "code",
   "execution_count": 101,
   "metadata": {},
   "outputs": [
    {
     "data": {
      "image/png": "[encoded data removed]",
      "text/plain": [
       "<Figure size 432x288 with 1 Axes>"
      ]
     },
     "metadata": {
      "needs_background": "light"
     },
     "output_type": "display_data"
    }
   ],
   "source": [
    "import matplotlib.pyplot as plt\n",
    "\n",
    "\n",
    "plt.scatter(y, dataPoints)\n",
    "\n",
    "#for index, value in enumerate(dataPoints):\n",
    "#    plt.plot(index, value, c='r')\n",
    "plt.show()"
   ]
  },
  {
   "cell_type": "code",
   "execution_count": null,
   "metadata": {},
   "outputs": [],
   "source": [
    "values = [[2.66, 1.7, 1000, 200, 50, 220100.0, 2.329, 3.013],\n",
    "          [0.73,0.73,4632,17,85,3307000,2.343,2.733],\n",
    "          [0.76,1,959,8,28,282000,2.343,2.733],\n",
    "          [0.92,0.75,19100,147,244,3307000,2.217,2.659],\n",
    "          [0.72,0.94,121478,1072,2026,6648000,2.103,2.586]]"
   ]
  },
  {
   "cell_type": "code",
   "execution_count": null,
   "metadata": {},
   "outputs": [],
   "source": []
  }
 ],
 "metadata": {
  "kernelspec": {
   "display_name": "Python 3",
   "language": "python",
   "name": "python3"
  },
  "language_info": {
   "codemirror_mode": {
    "name": "ipython",
    "version": 3
   },
   "file_extension": ".py",
   "mimetype": "text/x-python",
   "name": "python",
   "nbconvert_exporter": "python",
   "pygments_lexer": "ipython3",
   "version": "3.7.4"
  }
 },
 "nbformat": 4,
 "nbformat_minor": 2
}
